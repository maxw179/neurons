{
 "cells": [
  {
   "cell_type": "code",
   "execution_count": 46,
   "id": "4ba16cf3",
   "metadata": {},
   "outputs": [],
   "source": [
    "from converter import *\n",
    "import os"
   ]
  },
  {
   "cell_type": "code",
   "execution_count": null,
   "id": "0c5b358b",
   "metadata": {},
   "outputs": [],
   "source": [
    "file_dir = 'VarBrANgle_StdDev/'\n",
    "save_dir = 'tiff_images/'\n",
    "file_names = os.listdir('VarBrANgle_StdDev')\n",
    "reduced_files = np.array([file for file in file_names if file.split('.')[-1] == 'swc'])"
   ]
  },
  {
   "cell_type": "code",
   "execution_count": 48,
   "id": "95654771",
   "metadata": {},
   "outputs": [],
   "source": [
    "file_nums = np.array([int(file.split(\"-\")[2]) for file in reduced_files])\n",
    "reduced_files = reduced_files[np.argsort(file_nums)]"
   ]
  },
  {
   "cell_type": "code",
   "execution_count": 49,
   "id": "4fc86994",
   "metadata": {},
   "outputs": [],
   "source": [
    "for f in reduced_files:\n",
    "    swc_to_tiff(f, file_dir, save_dir, 512)"
   ]
  }
 ],
 "metadata": {
  "kernelspec": {
   "display_name": "base",
   "language": "python",
   "name": "python3"
  },
  "language_info": {
   "codemirror_mode": {
    "name": "ipython",
    "version": 3
   },
   "file_extension": ".py",
   "mimetype": "text/x-python",
   "name": "python",
   "nbconvert_exporter": "python",
   "pygments_lexer": "ipython3",
   "version": "3.10.9"
  }
 },
 "nbformat": 4,
 "nbformat_minor": 5
}
